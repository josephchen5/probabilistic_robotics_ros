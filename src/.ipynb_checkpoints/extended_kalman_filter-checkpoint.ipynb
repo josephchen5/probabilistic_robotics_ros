{
 "cells": [
  {
   "cell_type": "code",
   "execution_count": null,
   "metadata": {},
   "outputs": [],
   "source": []
  },
  {
   "cell_type": "code",
   "execution_count": 50,
   "metadata": {},
   "outputs": [],
   "source": [
    "import numpy as np\n",
    "import math\n",
    "import matplotlib.pyplot as plt\n",
    "Q = np.diag([0.1, 0.1, np.deg2rad(1.0), 1.0])**2\n",
    "R = np.diag([1.0, 1.0])**2\n",
    "DT = 0.1  # time tick [s]\n",
    "SIM_TIME = 50.0  # simulation time [s]\n",
    "\n",
    "def calc_input():\n",
    "    v = 1.0  # [m/s]\n",
    "    yawrate = 0.1  # [rad/s]\n",
    "    u = np.array([[v, yawrate]]).T\n",
    "    return u\n",
    "\n",
    "# State Vector [x y yaw v]'\n",
    "xEst = np.zeros((4, 1))\n",
    "xTrue = np.zeros((4, 1))\n",
    "u = calc_input()\n",
    "X = np.array([[1.0],\n",
    "                  [0.2],\n",
    "                  [0.3],\n",
    "                  [0.4]])\n",
    "v = u[0, 0]\n",
    "w = u[1, 0]\n",
    "x = X[0, 0]\n",
    "y = X[1, 0]\n",
    "theta = X[2, 0]\n",
    "xp = x - (v/w)*math.sin(theta) + (v/w)*math.sin(theta + w*DT)\n",
    "yp = y + (v/w)*math.cos(theta) - (v/w)*math.cos(theta + w*DT)\n",
    "thetap = theta + w*DT"
   ]
  },
  {
   "cell_type": "code",
   "execution_count": 52,
   "metadata": {},
   "outputs": [
    {
     "data": {
      "text/plain": [
       "0.23002919239892528"
      ]
     },
     "execution_count": 52,
     "metadata": {},
     "output_type": "execute_result"
    }
   ],
   "source": [
    "yp"
   ]
  },
  {
   "cell_type": "code",
   "execution_count": 24,
   "metadata": {},
   "outputs": [
    {
     "data": {
      "text/plain": [
       "array([[1. ],\n",
       "       [0.1]])"
      ]
     },
     "execution_count": 24,
     "metadata": {},
     "output_type": "execute_result"
    }
   ],
   "source": [
    "v = u(1);\n",
    "    w = u(2);\n",
    "    x = X(1);\n",
    "    y = X(2);\n",
    "    theta = X(3);\n",
    "\n",
    "    xp = x - (v/w)*sin(theta) + (v/w)*sin(theta + w*dt);\n",
    "    yp = y + (v/w)*cos(theta) - (v/w)*cos(theta + w*dt);\n",
    "    thetap = theta + w*dt ;\n",
    "    v * math.sin(yaw), DT * math.cos(yaw)"
   ]
  },
  {
   "cell_type": "code",
   "execution_count": null,
   "metadata": {},
   "outputs": [],
   "source": [
    "xp = x - (v/w)*sin(theta) + (v/w)*sin(theta + w*dt);"
   ]
  }
 ],
 "metadata": {
  "kernelspec": {
   "display_name": "Python 2",
   "language": "python",
   "name": "python2"
  },
  "language_info": {
   "codemirror_mode": {
    "name": "ipython",
    "version": 2
   },
   "file_extension": ".py",
   "mimetype": "text/x-python",
   "name": "python",
   "nbconvert_exporter": "python",
   "pygments_lexer": "ipython2",
   "version": "2.7.15"
  }
 },
 "nbformat": 4,
 "nbformat_minor": 2
}
